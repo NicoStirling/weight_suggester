{
  "nbformat": 4,
  "nbformat_minor": 0,
  "metadata": {
    "colab": {
      "name": "analysis_linear_regression.ipynb",
      "provenance": [],
      "collapsed_sections": []
    },
    "kernelspec": {
      "name": "python3",
      "display_name": "Python 3"
    },
    "language_info": {
      "name": "python"
    }
  },
  "cells": [
    {
      "cell_type": "code",
      "metadata": {
        "id": "3i3GuO8aJgQ9"
      },
      "source": [
        "import numpy as np\n",
        "import pandas as pd\n",
        "import seaborn as sns\n",
        "from sklearn.linear_model import LinearRegression\n",
        "from sklearn.model_selection import train_test_split\n",
        "from sklearn.metrics import mean_squared_error, r2_score\n",
        "import matplotlib.pyplot as plt"
      ],
      "execution_count": null,
      "outputs": []
    },
    {
      "cell_type": "markdown",
      "metadata": {
        "id": "DVc5IAPOaygV"
      },
      "source": [
        "# Load data"
      ]
    },
    {
      "cell_type": "code",
      "metadata": {
        "id": "3qA7rdEjLUHr"
      },
      "source": [
        "olympic = pd.read_csv('athlete_events.csv')"
      ],
      "execution_count": null,
      "outputs": []
    },
    {
      "cell_type": "markdown",
      "metadata": {
        "id": "yIT3ei5NazJh"
      },
      "source": [
        "# Column and data selection\n"
      ]
    },
    {
      "cell_type": "code",
      "metadata": {
        "id": "Jfs8Gxo0Kzv5"
      },
      "source": [
        "hundred_m = olympic[olympic['Event'] == \"Athletics Men's 100 metres\"]\n",
        "hundred_f = olympic[olympic['Event'] == \"Athletics Women's 100 metres\"]\n",
        "\n",
        "two_h_m = olympic[olympic['Event'] == \"Athletics Men's 200 metres\"]\n",
        "two_h_f = olympic[olympic['Event'] == \"Athletics Women's 200 metres\"]\n",
        "\n",
        "four_h_m = olympic[olympic['Event'] == \"Athletics Men's 400 metres\"]\n",
        "four_h_f = olympic[olympic['Event'] == \"Athletics Women's 400 metres\"]\n",
        "\n",
        "eight_h_m = olympic[olympic['Event'] == \"Athletics Men's 800 metres\"]\n",
        "eight_h_f = olympic[olympic['Event'] == \"Athletics Women's 800 metres\"]\n",
        "\n",
        "oneandhalfk_m = olympic[olympic['Event'] == \"Athletics Men's 1,500 metres\"]\n",
        "oneandhalfk_f = olympic[olympic['Event'] == \"Athletics Women's 1,500 metres\"]\n",
        "\n",
        "fivek_m = olympic[olympic['Event'] == \"Athletics Men's 5,000 metres\"]\n",
        "fivek_f = olympic[olympic['Event'] == \"Athletics Women's 5,000 metres\"]\n",
        "\n",
        "tenk_m = olympic[olympic['Event'] == \"Athletics Men's 10,000 metres\"]\n",
        "tenk_f = olympic[olympic['Event'] == \"Athletics Women's 10,000 metres\"]\n",
        "\n",
        "marathon_m = olympic[olympic['Event'] == \"Athletics Men's Marathon\"]\n",
        "marathon_f = olympic[olympic['Event'] == \"Athletics Women's Marathon\"]"
      ],
      "execution_count": null,
      "outputs": []
    },
    {
      "cell_type": "code",
      "metadata": {
        "colab": {
          "base_uri": "https://localhost:8080/",
          "height": 419
        },
        "id": "7eM9VxjRMQlP",
        "outputId": "0f109494-5d8f-416a-b9c6-5d5f405b45e3"
      },
      "source": [
        "runners_all = pd.concat([hundred_m, hundred_f, two_h_m, two_h_f, four_h_m, four_h_f, eight_h_m, eight_h_f, oneandhalfk_m, oneandhalfk_f, fivek_m, fivek_f, tenk_m, tenk_f, marathon_m, marathon_f])\n",
        "\n",
        "useful_columns = ['ID', 'Sex', 'Age', 'Height', 'Weight', 'Year', 'Event', 'Medal']\n",
        "\n",
        "runners = runners_all[useful_columns]\n",
        "\n",
        "runners = runners[runners['Year'] > 1980]\n",
        "\n",
        "runners"
      ],
      "execution_count": null,
      "outputs": [
        {
          "output_type": "execute_result",
          "data": {
            "text/html": [
              "<div>\n",
              "<style scoped>\n",
              "    .dataframe tbody tr th:only-of-type {\n",
              "        vertical-align: middle;\n",
              "    }\n",
              "\n",
              "    .dataframe tbody tr th {\n",
              "        vertical-align: top;\n",
              "    }\n",
              "\n",
              "    .dataframe thead th {\n",
              "        text-align: right;\n",
              "    }\n",
              "</style>\n",
              "<table border=\"1\" class=\"dataframe\">\n",
              "  <thead>\n",
              "    <tr style=\"text-align: right;\">\n",
              "      <th></th>\n",
              "      <th>ID</th>\n",
              "      <th>Sex</th>\n",
              "      <th>Age</th>\n",
              "      <th>Height</th>\n",
              "      <th>Weight</th>\n",
              "      <th>Year</th>\n",
              "      <th>Event</th>\n",
              "      <th>Medal</th>\n",
              "    </tr>\n",
              "  </thead>\n",
              "  <tbody>\n",
              "    <tr>\n",
              "      <th>203</th>\n",
              "      <td>96</td>\n",
              "      <td>M</td>\n",
              "      <td>18.0</td>\n",
              "      <td>168.0</td>\n",
              "      <td>60.0</td>\n",
              "      <td>2004</td>\n",
              "      <td>Athletics Men's 100 metres</td>\n",
              "      <td>NaN</td>\n",
              "    </tr>\n",
              "    <tr>\n",
              "      <th>257</th>\n",
              "      <td>129</td>\n",
              "      <td>M</td>\n",
              "      <td>22.0</td>\n",
              "      <td>181.0</td>\n",
              "      <td>74.0</td>\n",
              "      <td>2008</td>\n",
              "      <td>Athletics Men's 100 metres</td>\n",
              "      <td>NaN</td>\n",
              "    </tr>\n",
              "    <tr>\n",
              "      <th>570</th>\n",
              "      <td>327</td>\n",
              "      <td>M</td>\n",
              "      <td>NaN</td>\n",
              "      <td>165.0</td>\n",
              "      <td>65.0</td>\n",
              "      <td>1984</td>\n",
              "      <td>Athletics Men's 100 metres</td>\n",
              "      <td>NaN</td>\n",
              "    </tr>\n",
              "    <tr>\n",
              "      <th>907</th>\n",
              "      <td>517</td>\n",
              "      <td>M</td>\n",
              "      <td>22.0</td>\n",
              "      <td>179.0</td>\n",
              "      <td>72.0</td>\n",
              "      <td>1984</td>\n",
              "      <td>Athletics Men's 100 metres</td>\n",
              "      <td>NaN</td>\n",
              "    </tr>\n",
              "    <tr>\n",
              "      <th>1055</th>\n",
              "      <td>590</td>\n",
              "      <td>M</td>\n",
              "      <td>27.0</td>\n",
              "      <td>173.0</td>\n",
              "      <td>74.0</td>\n",
              "      <td>2008</td>\n",
              "      <td>Athletics Men's 100 metres</td>\n",
              "      <td>NaN</td>\n",
              "    </tr>\n",
              "    <tr>\n",
              "      <th>...</th>\n",
              "      <td>...</td>\n",
              "      <td>...</td>\n",
              "      <td>...</td>\n",
              "      <td>...</td>\n",
              "      <td>...</td>\n",
              "      <td>...</td>\n",
              "      <td>...</td>\n",
              "      <td>...</td>\n",
              "    </tr>\n",
              "    <tr>\n",
              "      <th>269376</th>\n",
              "      <td>134789</td>\n",
              "      <td>F</td>\n",
              "      <td>25.0</td>\n",
              "      <td>162.0</td>\n",
              "      <td>45.0</td>\n",
              "      <td>2004</td>\n",
              "      <td>Athletics Women's Marathon</td>\n",
              "      <td>NaN</td>\n",
              "    </tr>\n",
              "    <tr>\n",
              "      <th>269377</th>\n",
              "      <td>134789</td>\n",
              "      <td>F</td>\n",
              "      <td>29.0</td>\n",
              "      <td>162.0</td>\n",
              "      <td>45.0</td>\n",
              "      <td>2008</td>\n",
              "      <td>Athletics Women's Marathon</td>\n",
              "      <td>Bronze</td>\n",
              "    </tr>\n",
              "    <tr>\n",
              "      <th>269516</th>\n",
              "      <td>134861</td>\n",
              "      <td>F</td>\n",
              "      <td>24.0</td>\n",
              "      <td>168.0</td>\n",
              "      <td>50.0</td>\n",
              "      <td>2008</td>\n",
              "      <td>Athletics Women's Marathon</td>\n",
              "      <td>NaN</td>\n",
              "    </tr>\n",
              "    <tr>\n",
              "      <th>269517</th>\n",
              "      <td>134861</td>\n",
              "      <td>F</td>\n",
              "      <td>28.0</td>\n",
              "      <td>168.0</td>\n",
              "      <td>50.0</td>\n",
              "      <td>2012</td>\n",
              "      <td>Athletics Women's Marathon</td>\n",
              "      <td>NaN</td>\n",
              "    </tr>\n",
              "    <tr>\n",
              "      <th>270902</th>\n",
              "      <td>135477</td>\n",
              "      <td>F</td>\n",
              "      <td>28.0</td>\n",
              "      <td>167.0</td>\n",
              "      <td>50.0</td>\n",
              "      <td>2016</td>\n",
              "      <td>Athletics Women's Marathon</td>\n",
              "      <td>NaN</td>\n",
              "    </tr>\n",
              "  </tbody>\n",
              "</table>\n",
              "<p>8188 rows × 8 columns</p>\n",
              "</div>"
            ],
            "text/plain": [
              "            ID Sex   Age  ...  Year                       Event   Medal\n",
              "203         96   M  18.0  ...  2004  Athletics Men's 100 metres     NaN\n",
              "257        129   M  22.0  ...  2008  Athletics Men's 100 metres     NaN\n",
              "570        327   M   NaN  ...  1984  Athletics Men's 100 metres     NaN\n",
              "907        517   M  22.0  ...  1984  Athletics Men's 100 metres     NaN\n",
              "1055       590   M  27.0  ...  2008  Athletics Men's 100 metres     NaN\n",
              "...        ...  ..   ...  ...   ...                         ...     ...\n",
              "269376  134789   F  25.0  ...  2004  Athletics Women's Marathon     NaN\n",
              "269377  134789   F  29.0  ...  2008  Athletics Women's Marathon  Bronze\n",
              "269516  134861   F  24.0  ...  2008  Athletics Women's Marathon     NaN\n",
              "269517  134861   F  28.0  ...  2012  Athletics Women's Marathon     NaN\n",
              "270902  135477   F  28.0  ...  2016  Athletics Women's Marathon     NaN\n",
              "\n",
              "[8188 rows x 8 columns]"
            ]
          },
          "metadata": {},
          "execution_count": 4
        }
      ]
    },
    {
      "cell_type": "markdown",
      "metadata": {
        "id": "5LXwQJ-Kazcz"
      },
      "source": [
        "# Making all data numeric and droping NaNs"
      ]
    },
    {
      "cell_type": "code",
      "metadata": {
        "id": "hKEYDXZZNTkB"
      },
      "source": [
        "numeric_dict = {'F' : 0, 'M' : 1, \"Athletics Men's 100 metres\" : 100, \"Athletics Women's 100 metres\" : 100, \"Athletics Men's 200 metres\" : 200, \\\n",
        "                \"Athletics Women's 200 metres\" : 200, \"Athletics Men's 400 metres\" : 400, \"Athletics Women's 400 metres\" : 400, \"Athletics Men's 800 metres\" : 800, \\\n",
        "                \"Athletics Women's 800 metres\" : 800, \"Athletics Men's 1,500 metres\" : 1500, \"Athletics Women's 1,500 metres\" : 1500,  \"Athletics Women's 5,000 metres\" : 5000, \\\n",
        "                \"Athletics Men's 5,000 metres\" : 5000, \"Athletics Women's 10,000 metres\" : 10000, \"Athletics Men's 10,000 metres\" : 10000, \\\n",
        "                \"Athletics Women's Marathon\" : 42195, \"Athletics Men's Marathon\" : 42195, 'Bronze' : 2, 'Silver' : 3, 'Gold' : 4, 'NaN' : 1}\n",
        "              "
      ],
      "execution_count": null,
      "outputs": []
    },
    {
      "cell_type": "code",
      "metadata": {
        "colab": {
          "base_uri": "https://localhost:8080/",
          "height": 419
        },
        "id": "Dpdz4_0SQ33O",
        "outputId": "4aa1b94e-1ec4-4184-a9e2-35e58d5ad3eb"
      },
      "source": [
        "r_numeric = runners.replace({\"Sex\": numeric_dict, 'Event': numeric_dict, 'Medal': numeric_dict})\n",
        "\n",
        "r_numeric['Medal'] = r_numeric['Medal'].fillna(1)\n",
        "\n",
        "r_numeric"
      ],
      "execution_count": null,
      "outputs": [
        {
          "output_type": "execute_result",
          "data": {
            "text/html": [
              "<div>\n",
              "<style scoped>\n",
              "    .dataframe tbody tr th:only-of-type {\n",
              "        vertical-align: middle;\n",
              "    }\n",
              "\n",
              "    .dataframe tbody tr th {\n",
              "        vertical-align: top;\n",
              "    }\n",
              "\n",
              "    .dataframe thead th {\n",
              "        text-align: right;\n",
              "    }\n",
              "</style>\n",
              "<table border=\"1\" class=\"dataframe\">\n",
              "  <thead>\n",
              "    <tr style=\"text-align: right;\">\n",
              "      <th></th>\n",
              "      <th>ID</th>\n",
              "      <th>Sex</th>\n",
              "      <th>Age</th>\n",
              "      <th>Height</th>\n",
              "      <th>Weight</th>\n",
              "      <th>Year</th>\n",
              "      <th>Event</th>\n",
              "      <th>Medal</th>\n",
              "    </tr>\n",
              "  </thead>\n",
              "  <tbody>\n",
              "    <tr>\n",
              "      <th>203</th>\n",
              "      <td>96</td>\n",
              "      <td>1</td>\n",
              "      <td>18.0</td>\n",
              "      <td>168.0</td>\n",
              "      <td>60.0</td>\n",
              "      <td>2004</td>\n",
              "      <td>100</td>\n",
              "      <td>1.0</td>\n",
              "    </tr>\n",
              "    <tr>\n",
              "      <th>257</th>\n",
              "      <td>129</td>\n",
              "      <td>1</td>\n",
              "      <td>22.0</td>\n",
              "      <td>181.0</td>\n",
              "      <td>74.0</td>\n",
              "      <td>2008</td>\n",
              "      <td>100</td>\n",
              "      <td>1.0</td>\n",
              "    </tr>\n",
              "    <tr>\n",
              "      <th>570</th>\n",
              "      <td>327</td>\n",
              "      <td>1</td>\n",
              "      <td>NaN</td>\n",
              "      <td>165.0</td>\n",
              "      <td>65.0</td>\n",
              "      <td>1984</td>\n",
              "      <td>100</td>\n",
              "      <td>1.0</td>\n",
              "    </tr>\n",
              "    <tr>\n",
              "      <th>907</th>\n",
              "      <td>517</td>\n",
              "      <td>1</td>\n",
              "      <td>22.0</td>\n",
              "      <td>179.0</td>\n",
              "      <td>72.0</td>\n",
              "      <td>1984</td>\n",
              "      <td>100</td>\n",
              "      <td>1.0</td>\n",
              "    </tr>\n",
              "    <tr>\n",
              "      <th>1055</th>\n",
              "      <td>590</td>\n",
              "      <td>1</td>\n",
              "      <td>27.0</td>\n",
              "      <td>173.0</td>\n",
              "      <td>74.0</td>\n",
              "      <td>2008</td>\n",
              "      <td>100</td>\n",
              "      <td>1.0</td>\n",
              "    </tr>\n",
              "    <tr>\n",
              "      <th>...</th>\n",
              "      <td>...</td>\n",
              "      <td>...</td>\n",
              "      <td>...</td>\n",
              "      <td>...</td>\n",
              "      <td>...</td>\n",
              "      <td>...</td>\n",
              "      <td>...</td>\n",
              "      <td>...</td>\n",
              "    </tr>\n",
              "    <tr>\n",
              "      <th>269376</th>\n",
              "      <td>134789</td>\n",
              "      <td>0</td>\n",
              "      <td>25.0</td>\n",
              "      <td>162.0</td>\n",
              "      <td>45.0</td>\n",
              "      <td>2004</td>\n",
              "      <td>42195</td>\n",
              "      <td>1.0</td>\n",
              "    </tr>\n",
              "    <tr>\n",
              "      <th>269377</th>\n",
              "      <td>134789</td>\n",
              "      <td>0</td>\n",
              "      <td>29.0</td>\n",
              "      <td>162.0</td>\n",
              "      <td>45.0</td>\n",
              "      <td>2008</td>\n",
              "      <td>42195</td>\n",
              "      <td>2.0</td>\n",
              "    </tr>\n",
              "    <tr>\n",
              "      <th>269516</th>\n",
              "      <td>134861</td>\n",
              "      <td>0</td>\n",
              "      <td>24.0</td>\n",
              "      <td>168.0</td>\n",
              "      <td>50.0</td>\n",
              "      <td>2008</td>\n",
              "      <td>42195</td>\n",
              "      <td>1.0</td>\n",
              "    </tr>\n",
              "    <tr>\n",
              "      <th>269517</th>\n",
              "      <td>134861</td>\n",
              "      <td>0</td>\n",
              "      <td>28.0</td>\n",
              "      <td>168.0</td>\n",
              "      <td>50.0</td>\n",
              "      <td>2012</td>\n",
              "      <td>42195</td>\n",
              "      <td>1.0</td>\n",
              "    </tr>\n",
              "    <tr>\n",
              "      <th>270902</th>\n",
              "      <td>135477</td>\n",
              "      <td>0</td>\n",
              "      <td>28.0</td>\n",
              "      <td>167.0</td>\n",
              "      <td>50.0</td>\n",
              "      <td>2016</td>\n",
              "      <td>42195</td>\n",
              "      <td>1.0</td>\n",
              "    </tr>\n",
              "  </tbody>\n",
              "</table>\n",
              "<p>8188 rows × 8 columns</p>\n",
              "</div>"
            ],
            "text/plain": [
              "            ID  Sex   Age  Height  Weight  Year  Event  Medal\n",
              "203         96    1  18.0   168.0    60.0  2004    100    1.0\n",
              "257        129    1  22.0   181.0    74.0  2008    100    1.0\n",
              "570        327    1   NaN   165.0    65.0  1984    100    1.0\n",
              "907        517    1  22.0   179.0    72.0  1984    100    1.0\n",
              "1055       590    1  27.0   173.0    74.0  2008    100    1.0\n",
              "...        ...  ...   ...     ...     ...   ...    ...    ...\n",
              "269376  134789    0  25.0   162.0    45.0  2004  42195    1.0\n",
              "269377  134789    0  29.0   162.0    45.0  2008  42195    2.0\n",
              "269516  134861    0  24.0   168.0    50.0  2008  42195    1.0\n",
              "269517  134861    0  28.0   168.0    50.0  2012  42195    1.0\n",
              "270902  135477    0  28.0   167.0    50.0  2016  42195    1.0\n",
              "\n",
              "[8188 rows x 8 columns]"
            ]
          },
          "metadata": {},
          "execution_count": 6
        }
      ]
    },
    {
      "cell_type": "code",
      "metadata": {
        "id": "yBc1FySETcop"
      },
      "source": [
        "r_numeric.dropna(inplace = True)"
      ],
      "execution_count": null,
      "outputs": []
    },
    {
      "cell_type": "code",
      "metadata": {
        "colab": {
          "base_uri": "https://localhost:8080/",
          "height": 419
        },
        "id": "7XA5bIExWMhU",
        "outputId": "bd808634-e6a8-458e-c6e4-e24c671ca0db"
      },
      "source": [
        "r_numeric"
      ],
      "execution_count": null,
      "outputs": [
        {
          "output_type": "execute_result",
          "data": {
            "text/html": [
              "<div>\n",
              "<style scoped>\n",
              "    .dataframe tbody tr th:only-of-type {\n",
              "        vertical-align: middle;\n",
              "    }\n",
              "\n",
              "    .dataframe tbody tr th {\n",
              "        vertical-align: top;\n",
              "    }\n",
              "\n",
              "    .dataframe thead th {\n",
              "        text-align: right;\n",
              "    }\n",
              "</style>\n",
              "<table border=\"1\" class=\"dataframe\">\n",
              "  <thead>\n",
              "    <tr style=\"text-align: right;\">\n",
              "      <th></th>\n",
              "      <th>ID</th>\n",
              "      <th>Sex</th>\n",
              "      <th>Age</th>\n",
              "      <th>Height</th>\n",
              "      <th>Weight</th>\n",
              "      <th>Year</th>\n",
              "      <th>Event</th>\n",
              "      <th>Medal</th>\n",
              "    </tr>\n",
              "  </thead>\n",
              "  <tbody>\n",
              "    <tr>\n",
              "      <th>203</th>\n",
              "      <td>96</td>\n",
              "      <td>1</td>\n",
              "      <td>18.0</td>\n",
              "      <td>168.0</td>\n",
              "      <td>60.0</td>\n",
              "      <td>2004</td>\n",
              "      <td>100</td>\n",
              "      <td>1.0</td>\n",
              "    </tr>\n",
              "    <tr>\n",
              "      <th>257</th>\n",
              "      <td>129</td>\n",
              "      <td>1</td>\n",
              "      <td>22.0</td>\n",
              "      <td>181.0</td>\n",
              "      <td>74.0</td>\n",
              "      <td>2008</td>\n",
              "      <td>100</td>\n",
              "      <td>1.0</td>\n",
              "    </tr>\n",
              "    <tr>\n",
              "      <th>907</th>\n",
              "      <td>517</td>\n",
              "      <td>1</td>\n",
              "      <td>22.0</td>\n",
              "      <td>179.0</td>\n",
              "      <td>72.0</td>\n",
              "      <td>1984</td>\n",
              "      <td>100</td>\n",
              "      <td>1.0</td>\n",
              "    </tr>\n",
              "    <tr>\n",
              "      <th>1055</th>\n",
              "      <td>590</td>\n",
              "      <td>1</td>\n",
              "      <td>27.0</td>\n",
              "      <td>173.0</td>\n",
              "      <td>74.0</td>\n",
              "      <td>2008</td>\n",
              "      <td>100</td>\n",
              "      <td>1.0</td>\n",
              "    </tr>\n",
              "    <tr>\n",
              "      <th>1094</th>\n",
              "      <td>611</td>\n",
              "      <td>1</td>\n",
              "      <td>23.0</td>\n",
              "      <td>170.0</td>\n",
              "      <td>67.0</td>\n",
              "      <td>2016</td>\n",
              "      <td>100</td>\n",
              "      <td>1.0</td>\n",
              "    </tr>\n",
              "    <tr>\n",
              "      <th>...</th>\n",
              "      <td>...</td>\n",
              "      <td>...</td>\n",
              "      <td>...</td>\n",
              "      <td>...</td>\n",
              "      <td>...</td>\n",
              "      <td>...</td>\n",
              "      <td>...</td>\n",
              "      <td>...</td>\n",
              "    </tr>\n",
              "    <tr>\n",
              "      <th>269376</th>\n",
              "      <td>134789</td>\n",
              "      <td>0</td>\n",
              "      <td>25.0</td>\n",
              "      <td>162.0</td>\n",
              "      <td>45.0</td>\n",
              "      <td>2004</td>\n",
              "      <td>42195</td>\n",
              "      <td>1.0</td>\n",
              "    </tr>\n",
              "    <tr>\n",
              "      <th>269377</th>\n",
              "      <td>134789</td>\n",
              "      <td>0</td>\n",
              "      <td>29.0</td>\n",
              "      <td>162.0</td>\n",
              "      <td>45.0</td>\n",
              "      <td>2008</td>\n",
              "      <td>42195</td>\n",
              "      <td>2.0</td>\n",
              "    </tr>\n",
              "    <tr>\n",
              "      <th>269516</th>\n",
              "      <td>134861</td>\n",
              "      <td>0</td>\n",
              "      <td>24.0</td>\n",
              "      <td>168.0</td>\n",
              "      <td>50.0</td>\n",
              "      <td>2008</td>\n",
              "      <td>42195</td>\n",
              "      <td>1.0</td>\n",
              "    </tr>\n",
              "    <tr>\n",
              "      <th>269517</th>\n",
              "      <td>134861</td>\n",
              "      <td>0</td>\n",
              "      <td>28.0</td>\n",
              "      <td>168.0</td>\n",
              "      <td>50.0</td>\n",
              "      <td>2012</td>\n",
              "      <td>42195</td>\n",
              "      <td>1.0</td>\n",
              "    </tr>\n",
              "    <tr>\n",
              "      <th>270902</th>\n",
              "      <td>135477</td>\n",
              "      <td>0</td>\n",
              "      <td>28.0</td>\n",
              "      <td>167.0</td>\n",
              "      <td>50.0</td>\n",
              "      <td>2016</td>\n",
              "      <td>42195</td>\n",
              "      <td>1.0</td>\n",
              "    </tr>\n",
              "  </tbody>\n",
              "</table>\n",
              "<p>7845 rows × 8 columns</p>\n",
              "</div>"
            ],
            "text/plain": [
              "            ID  Sex   Age  Height  Weight  Year  Event  Medal\n",
              "203         96    1  18.0   168.0    60.0  2004    100    1.0\n",
              "257        129    1  22.0   181.0    74.0  2008    100    1.0\n",
              "907        517    1  22.0   179.0    72.0  1984    100    1.0\n",
              "1055       590    1  27.0   173.0    74.0  2008    100    1.0\n",
              "1094       611    1  23.0   170.0    67.0  2016    100    1.0\n",
              "...        ...  ...   ...     ...     ...   ...    ...    ...\n",
              "269376  134789    0  25.0   162.0    45.0  2004  42195    1.0\n",
              "269377  134789    0  29.0   162.0    45.0  2008  42195    2.0\n",
              "269516  134861    0  24.0   168.0    50.0  2008  42195    1.0\n",
              "269517  134861    0  28.0   168.0    50.0  2012  42195    1.0\n",
              "270902  135477    0  28.0   167.0    50.0  2016  42195    1.0\n",
              "\n",
              "[7845 rows x 8 columns]"
            ]
          },
          "metadata": {},
          "execution_count": 8
        }
      ]
    },
    {
      "cell_type": "markdown",
      "metadata": {
        "id": "AFEB5bOpbnMg"
      },
      "source": [
        "# Looking at the data"
      ]
    },
    {
      "cell_type": "code",
      "metadata": {
        "colab": {
          "base_uri": "https://localhost:8080/",
          "height": 302
        },
        "id": "GYocbdlcWP-q",
        "outputId": "1f2b7543-be0b-4e73-96fc-24bd5c732ec3"
      },
      "source": [
        "sns.set_theme(color_codes=True)\n",
        "sns.regplot(x='Height', y='Weight', data=r_numeric[r_numeric['Sex'] == 1])"
      ],
      "execution_count": null,
      "outputs": [
        {
          "output_type": "execute_result",
          "data": {
            "text/plain": [
              "<matplotlib.axes._subplots.AxesSubplot at 0x7f5b679e6d10>"
            ]
          },
          "metadata": {},
          "execution_count": 9
        },
        {
          "output_type": "display_data",
          "data": {
            "image/png": "[encoded data removed]",
            "text/plain": [
              "<Figure size 432x288 with 1 Axes>"
            ]
          },
          "metadata": {}
        }
      ]
    },
    {
      "cell_type": "code",
      "metadata": {
        "colab": {
          "base_uri": "https://localhost:8080/",
          "height": 302
        },
        "id": "cveeckqQWYTD",
        "outputId": "c9f037d8-00ec-41ad-c20f-aaaf4ef63c54"
      },
      "source": [
        "sns.regplot(x='Height', y='Weight', data=r_numeric[r_numeric['Sex'] == 0])"
      ],
      "execution_count": null,
      "outputs": [
        {
          "output_type": "execute_result",
          "data": {
            "text/plain": [
              "<matplotlib.axes._subplots.AxesSubplot at 0x7f5b5505add0>"
            ]
          },
          "metadata": {},
          "execution_count": 10
        },
        {
          "output_type": "display_data",
          "data": {
            "image/png": "[encoded data removed]",
            "text/plain": [
              "<Figure size 432x288 with 1 Axes>"
            ]
          },
          "metadata": {}
        }
      ]
    },
    {
      "cell_type": "code",
      "metadata": {
        "id": "Q84uifhmHGAD"
      },
      "source": [
        "r_sprint = r_numeric.loc[(r_numeric['Event'] < 500)]\n",
        "r_middle = r_numeric.loc[((r_numeric['Event'] > 700) & (r_numeric['Event'] < 1600))]\n",
        "r_long = r_numeric.loc[(r_numeric['Event'] > 4000)]\n"
      ],
      "execution_count": null,
      "outputs": []
    },
    {
      "cell_type": "markdown",
      "metadata": {
        "id": "h8MjWPL-bvFr"
      },
      "source": [
        "# Test/Train split: X(All variables) -> y(Weight): 80% Train, 20% Test"
      ]
    },
    {
      "cell_type": "code",
      "metadata": {
        "id": "h4a5JXwAY88_"
      },
      "source": [
        "X_train_s, X_test_s, w_train_s, w_test_s = train_test_split(r_sprint[['Sex', 'Age','Height', 'Event', 'Year']], r_sprint['Weight'], random_state = 42, test_size = 0.2)\n",
        "X_train_m, X_test_m, w_train_m, w_test_m = train_test_split(r_middle[['Sex', 'Age','Height', 'Event', 'Year']], r_middle['Weight'], random_state = 43, test_size = 0.2)\n",
        "X_train_l, X_test_l, w_train_l, w_test_l = train_test_split(r_long[['Sex', 'Age','Height', 'Event', 'Year']], r_long['Weight'], random_state = 44, test_size = 0.2)"
      ],
      "execution_count": null,
      "outputs": []
    },
    {
      "cell_type": "markdown",
      "metadata": {
        "id": "Ndm00nAzcsId"
      },
      "source": [
        "# Linear Regression"
      ]
    },
    {
      "cell_type": "code",
      "metadata": {
        "colab": {
          "base_uri": "https://localhost:8080/"
        },
        "id": "hCpx_WyLcur3",
        "outputId": "1d3c3b23-5c3c-423f-e40e-191b00e009f5"
      },
      "source": [
        "regr_s = LinearRegression()\n",
        "regr_m = LinearRegression()\n",
        "regr_l = LinearRegression()\n",
        "\n",
        "regr_s.fit(X_train_s, w_train_s)\n",
        "regr_m.fit(X_train_m, w_train_m)\n",
        "regr_l.fit(X_train_l, w_train_l)\n",
        "\n",
        "w_pred_s = regr_s.predict(X_test_s)\n",
        "w_pred_m = regr_m.predict(X_test_m)\n",
        "w_pred_l = regr_l.predict(X_test_l)\n",
        "\n",
        "print(r2_score(w_test_s, w_pred_s),r2_score(w_test_m, w_pred_m),r2_score(w_test_l, w_pred_l))\n",
        "\n",
        "esd_s = np.sqrt(mean_squared_error(w_test_s, w_pred_s))\n",
        "esd_m = np.sqrt(mean_squared_error(w_test_m, w_pred_m))\n",
        "esd_l = np.sqrt(mean_squared_error(w_test_l, w_pred_l))\n",
        "\n",
        "print(esd_s,esd_m,esd_l)"
      ],
      "execution_count": null,
      "outputs": [
        {
          "output_type": "stream",
          "name": "stdout",
          "text": [
            "0.7522293775174569 0.8096582538325181 0.728610492264539\n",
            "5.075215957601485 3.7727542156891674 3.7897896342231276\n"
          ]
        }
      ]
    },
    {
      "cell_type": "code",
      "metadata": {
        "colab": {
          "base_uri": "https://localhost:8080/"
        },
        "id": "2ZQNvxR5YwcB",
        "outputId": "11456e54-50ef-4111-94f9-59279f5eaf75"
      },
      "source": [
        "print(regr_s.coef_,[float(i) for i in regr_m.coef_],[float(i) for i in regr_l.coef_])\n",
        "print(regr_s.intercept_,regr_m.intercept_,regr_l.intercept_)"
      ],
      "execution_count": null,
      "outputs": [
        {
          "output_type": "stream",
          "name": "stdout",
          "text": [
            "[ 8.41156984  0.11285475  0.63783763 -0.0086542   0.06968786] [5.550487455597479, 0.10197139872825182, 0.558837805178148, -0.003130011929567064, -0.0078018646581095915] [5.335467884466255, 0.0739733719125365, 0.54568917753583, 9.786730369887309e-06, -0.026040747138116563]\n",
            "-189.22097428736998 -22.761939543825527 10.085980826797723\n"
          ]
        }
      ]
    },
    {
      "cell_type": "markdown",
      "metadata": {
        "id": "zE9y88_NVKFd"
      },
      "source": [
        "\n",
        "# A function with the linear model built in. Ready for copy to a blog post!"
      ]
    },
    {
      "cell_type": "code",
      "metadata": {
        "id": "tzFVdYTNfjhF"
      },
      "source": [
        "import numpy as np\n",
        "\n",
        "def weight_suggestor(Sex,Age,Height,Distance):\n",
        "\n",
        "  # The linear models:\n",
        "  coef_s = np.array([ 8.41156984,  0.11285475,  0.63783763, -0.0086542 ,  0.06968786])\n",
        "  coef_m = np.array([5.550487455597479, 0.10197139872825182, 0.558837805178148, -0.003130011929567064, -0.0078018646581095915])\n",
        "  coef_l = np.array([5.335467884466255, 0.0739733719125365, 0.54568917753583, 9.786730369887309e-06, -0.026040747138116563])\n",
        "  intercept_s = -189.22097428736998\n",
        "  intercept_m = -22.761939543825527\n",
        "  intercept_l = 10.085980826797723\n",
        "  esd_s = 5.075215957601485\n",
        "  esd_m = 3.7727542156891674\n",
        "  esd_l = 3.7897896342231276\n",
        "\n",
        "  # Converting Sex input into binary if it is a string\n",
        "  numeric_dictionary = {'F' : 0, 'M' : 1, 'Female' : 0, 'Male' : 1, 'female' : 0, 'male' : 1}\n",
        "  \n",
        "  if type(Sex) == str:\n",
        "    Sex = numeric_dictionary[Sex]\n",
        "\n",
        "  subject = np.array([Sex,Age,Height,Distance,2020])\n",
        "\n",
        "  # Applying to the approapriate model\n",
        "  if Distance < 600:\n",
        "    weight = np.dot(coef_s,subject) + intercept_s\n",
        "    dev = esd_s\n",
        "  if Distance < 2500:\n",
        "    weight = np.dot(coef_m,subject) + intercept_m\n",
        "    dev = esd_m\n",
        "  else:\n",
        "    weight = np.dot(coef_l,subject) + intercept_l\n",
        "    dev = esd_l\n",
        "\n",
        "  return weight, weight - dev, weight + dev\n"
      ],
      "execution_count": null,
      "outputs": []
    },
    {
      "cell_type": "code",
      "metadata": {
        "id": "XKptEvQuthLj",
        "colab": {
          "base_uri": "https://localhost:8080/"
        },
        "outputId": "e8b52a75-2330-4410-ddf4-555f98aeed99"
      },
      "source": [
        "weight_suggestor('F',25,151.5,42195)"
      ],
      "execution_count": null,
      "outputs": [
        {
          "output_type": "execute_result",
          "data": {
            "text/plain": [
              "(42.41786739025132, 38.62807775602819, 46.20765702447444)"
            ]
          },
          "metadata": {},
          "execution_count": 22
        }
      ]
    },
    {
      "cell_type": "code",
      "metadata": {
        "colab": {
          "base_uri": "https://localhost:8080/"
        },
        "id": "ZGSetxs9cggM",
        "outputId": "beb9ff70-3214-4189-ac18-7da48363e713"
      },
      "source": [
        "weight_suggestor('M',25,175,42195)"
      ],
      "execution_count": null,
      "outputs": [
        {
          "output_type": "execute_result",
          "data": {
            "text/plain": [
              "(60.577030946809586, 56.78724131258646, 64.36682058103271)"
            ]
          },
          "metadata": {},
          "execution_count": 23
        }
      ]
    },
    {
      "cell_type": "code",
      "metadata": {
        "id": "tioMAKZ8e7l2"
      },
      "source": [
        ""
      ],
      "execution_count": null,
      "outputs": []
    }
  ]
}